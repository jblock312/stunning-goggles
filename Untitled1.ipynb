{
  "nbformat": 4,
  "nbformat_minor": 0,
  "metadata": {
    "colab": {
      "provenance": [],
      "authorship_tag": "ABX9TyPdJk3ZDyPPLYMjTkZtF1MQ",
      "include_colab_link": true
    },
    "kernelspec": {
      "name": "python3",
      "display_name": "Python 3"
    },
    "language_info": {
      "name": "python"
    }
  },
  "cells": [
    {
      "cell_type": "markdown",
      "metadata": {
        "id": "view-in-github",
        "colab_type": "text"
      },
      "source": [
        "<a href=\"https://colab.research.google.com/github/jblock312/stunning-goggles/blob/main/Untitled1.ipynb\" target=\"_parent\"><img src=\"https://colab.research.google.com/assets/colab-badge.svg\" alt=\"Open In Colab\"/></a>"
      ]
    },
    {
      "cell_type": "code",
      "execution_count": 1,
      "metadata": {
        "id": "haHZ1GabQrHu"
      },
      "outputs": [],
      "source": [
        "import tensorflow as tf\n",
        "import pandas as pd\n",
        "import matplotlib.pyplot as plt\n",
        "import numpy as npy\n",
        "import os\n",
        "import io\n",
        "import pathlib\n",
        "import seaborn as sns"
      ]
    },
    {
      "cell_type": "code",
      "source": [
        "seed = 1\n",
        "tf.random.set_seed(seed)\n",
        "npy.random.seed(seed)"
      ],
      "metadata": {
        "id": "Ai3XHxVxyuYh"
      },
      "execution_count": 4,
      "outputs": []
    },
    {
      "cell_type": "code",
      "source": [
        "DATASET_PATH = 'DataSets/TrainingFiles/Manager1'\n",
        "data_dir = pathlib.path(DATASET_PATH)\n",
        "commands = npy.array(tf.io.gfile.listdir(str(data_dir)))\n",
        "commands = commands[(commands != 'README.md') & (commands != '.DS_Store')]\n"
      ],
      "metadata": {
        "id": "M_7-_RdAyvLa"
      },
      "execution_count": null,
      "outputs": []
    },
    {
      "cell_type": "code",
      "source": [
        "train_ds, val_ds = tf.keras.utils.audio_dataset_from_directory(\n",
        "    directory = data_dir,\n",
        "    batch_size = x,\n",
        "    validation_split = 0.1,\n",
        "    seed = 0,\n",
        "    subset = 'train'\n",
        ")"
      ],
      "metadata": {
        "id": "B2khtZ7JZlon"
      },
      "execution_count": null,
      "outputs": []
    },
    {
      "cell_type": "code",
      "source": [],
      "metadata": {
        "id": "8OaNt-olgAav"
      },
      "execution_count": null,
      "outputs": []
    },
    {
      "cell_type": "code",
      "source": [],
      "metadata": {
        "id": "4V4WToaRZlzr"
      },
      "execution_count": null,
      "outputs": []
    },
    {
      "cell_type": "code",
      "source": [],
      "metadata": {
        "id": "hv5qVSaWZl-U"
      },
      "execution_count": null,
      "outputs": []
    },
    {
      "cell_type": "code",
      "source": [
        "cv-{type}-{group}.csv\n",
        "tf.keras.layer.Flatten()"
      ],
      "metadata": {
        "id": "I2LdWoiehSzn"
      },
      "execution_count": null,
      "outputs": []
    }
  ]
}